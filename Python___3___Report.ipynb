{
  "nbformat": 4,
  "nbformat_minor": 0,
  "metadata": {
    "colab": {
      "provenance": [],
      "authorship_tag": "ABX9TyO+E6V+mcxyUwfwiOQj8bPX",
      "include_colab_link": true
    },
    "kernelspec": {
      "name": "python3",
      "display_name": "Python 3"
    },
    "language_info": {
      "name": "python"
    }
  },
  "cells": [
    {
      "cell_type": "markdown",
      "metadata": {
        "id": "view-in-github",
        "colab_type": "text"
      },
      "source": [
        "<a href=\"https://colab.research.google.com/github/SeungJoo03/BP_05_Ch3/blob/main/Python___3___Report.ipynb\" target=\"_parent\"><img src=\"https://colab.research.google.com/assets/colab-badge.svg\" alt=\"Open In Colab\"/></a>"
      ]
    },
    {
      "cell_type": "markdown",
      "source": [
        "용자로부터 두 개의 정수를 받°圖 정수의 합 정수의 차 정수의 곱 졍수의 펑균, 큰\n",
        "수 작은 수를 계산하여 화면에 출럭하는 프로그랩을 작셩하라 파이썬이 제공하는 내\n",
        "장 함수 max(x, y), min(x, y)을 사용해보자."
      ],
      "metadata": {
        "id": "XuNsf8ecoByp"
      }
    },
    {
      "cell_type": "code",
      "source": [
        "x = int(input(\"x : \"))\n",
        "y = int(input(\"y : \"))\n",
        "\n",
        "sum = x + y\n",
        "diff = x - y\n",
        "mul = x * y\n",
        "aver = sum / 2\n",
        "\n",
        "print(\"두 수의 합 :\", sum)\n",
        "print(\"두 수의 차 :\", diff)\n",
        "print(\"두 수의 곱:\", mul)\n",
        "print(\"큰 수 :\", max(x,y))\n",
        "print(\"작은 수 :\", min(x,y))"
      ],
      "metadata": {
        "colab": {
          "base_uri": "https://localhost:8080/"
        },
        "id": "xkWBs-9_oEjj",
        "outputId": "abe3568c-4f21-4f8a-e352-f74f0ff40fc4"
      },
      "execution_count": 1,
      "outputs": [
        {
          "output_type": "stream",
          "name": "stdout",
          "text": [
            "x : 10\n",
            "y : 20\n",
            "두 수의 합 : 30\n",
            "두 수의 차 : -10\n",
            "두 수의 곱: 200\n",
            "큰 수 : 20\n",
            "작은 수 : 10\n"
          ]
        }
      ]
    },
    {
      "cell_type": "markdown",
      "source": [
        "기둥의 부피를 계산하는 프로그랩을 작성해보자. 원기둥의 부피는 다옴과 같이 계산한다\n"
      ],
      "metadata": {
        "id": "f-rGpHzxooQZ"
      }
    },
    {
      "cell_type": "code",
      "source": [
        "r = int(input(\"r :\"))\n",
        "h = int(input(\"h :\"))\n",
        "\n",
        "v = 3.141592 * r ** 2 * h\n",
        "\n",
        "print(\"원기둥의 부피 :\", v)"
      ],
      "metadata": {
        "colab": {
          "base_uri": "https://localhost:8080/"
        },
        "id": "ncIuW6G4ovEg",
        "outputId": "7278ad49-a468-49ee-f588-432b0bd8f907"
      },
      "execution_count": 2,
      "outputs": [
        {
          "output_type": "stream",
          "name": "stdout",
          "text": [
            "r :10\n",
            "h :100\n",
            "원기둥의 부피 : 31415.92\n"
          ]
        }
      ]
    },
    {
      "cell_type": "markdown",
      "source": [
        "용지로부터 정수를 받。내 정수의 자러수의 합을 계산하는 프로그랩을 작성하여 보자. 예릍 들어서 사용자가 1234를 입럭하였다면 1+2+3+4를계산하면 된다 나머지 연산자와 정수 나눗셈 연산자와 정수 나눗셈 연산자 //를 적극적으로 사용해보자"
      ],
      "metadata": {
        "id": "wAjq3PoqpBG-"
      }
    },
    {
      "cell_type": "code",
      "source": [
        "x = int(input(\"정수를 입력하시오 : \"))\n",
        "\n",
        "one = x % 10\n",
        "x = x // 10\n",
        "ten = x % 10\n",
        "x = x // 10\n",
        "hun = x % 10\n",
        "tho = x // 10\n",
        "sum = one + ten + hun + tho\n",
        "\n",
        "print(\"자리수의 합 :\", sum)"
      ],
      "metadata": {
        "colab": {
          "base_uri": "https://localhost:8080/"
        },
        "id": "OyVg0b0KpH9I",
        "outputId": "f3886fa9-e7fb-4212-dab0-3cf0ae0d1438"
      },
      "execution_count": 3,
      "outputs": [
        {
          "output_type": "stream",
          "name": "stdout",
          "text": [
            "정수를 입력하시오 : 1234\n",
            "자리수의 합 : 10\n"
          ]
        }
      ]
    },
    {
      "cell_type": "markdown",
      "source": [
        "용자로부터 투 점의 좌표 (xl, yl)과 (x2, y2)를 입럭받아서 두 점 사이의 거러를 계산하는 프로그랩을 작셩해보자 스크렵트 모드로 작성하라 거리는 다옴 식으로 계산한다."
      ],
      "metadata": {
        "id": "iHeib_yzpdM8"
      }
    },
    {
      "cell_type": "code",
      "source": [
        "x1 = int(input(\"x1 : \"))\n",
        "y1 = int(input(\"y1 : \"))\n",
        "x2 = int(input(\"x2 : \"))\n",
        "y2 = int(input(\"y2 : \"))\n",
        "\n",
        "dis = ((x1 - x2) ** 2 + (y1 - y2) ** 2) ** 0.5\n",
        "\n",
        "print(\"두 점 사이의 거리 : \", dis)"
      ],
      "metadata": {
        "colab": {
          "base_uri": "https://localhost:8080/"
        },
        "id": "cmQXVioipfgY",
        "outputId": "514cbd0e-f29a-4446-fa71-b6351e9dc471"
      },
      "execution_count": 4,
      "outputs": [
        {
          "output_type": "stream",
          "name": "stdout",
          "text": [
            "x1 : 0\n",
            "y1 : 0\n",
            "x2 : 100\n",
            "y2 : 100\n",
            "두 점 사이의 거리 :  141.4213562373095\n"
          ]
        }
      ]
    },
    {
      "cell_type": "markdown",
      "source": [
        "1번분졔에서 계산한거러가맞는지, 터틀그\n",
        "래퍽으로 확인해보자. 거북이를 읜쪽으로 45\n",
        "도회전하여 141만큼 젼진시킨다. 다시 거북이\n",
        "를 (0, 0)으로 이동하고 0도를 가러키게 한 후\n",
        "에 100만큼 전진하고 왼쪽으로 90도 회전하여\n",
        "100만큼 전진한다. 화면에 그러진 직션이 일치\n",
        "하는가?\n"
      ],
      "metadata": {
        "id": "MQSVFyt1p-Jr"
      }
    },
    {
      "cell_type": "markdown",
      "source": [
        "사용자로부터 두점을업럭받。圖 터틀그래퍽을이용하여 두점을연결하는직선을그\n",
        "린다 직션의 끝점에 직션의 길이를 계산하여 츨럭해보자"
      ],
      "metadata": {
        "id": "kFvGiTjYp_xt"
      }
    },
    {
      "cell_type": "markdown",
      "source": [
        "이썬에서 timeO을호출하면 1970닌 1월 1일 이후홀러은 전체 초가반환된다 이것을\n",
        "적절하게 나누거나 나머지를 구해서 현재 시간의 시와 분을 계산할 수 있올까?\n"
      ],
      "metadata": {
        "id": "WKSEUwDkqCZe"
      }
    },
    {
      "cell_type": "markdown",
      "source": [
        "직이는 물체의 운동에너지를 계산해보자. 물체의 에너지를 계산하는 식은 1/2*무게*\n",
        "속도*2이다."
      ],
      "metadata": {
        "id": "hpHyHLqrqD0p"
      }
    }
  ]
}